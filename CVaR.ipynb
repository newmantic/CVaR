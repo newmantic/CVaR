{
  "nbformat": 4,
  "nbformat_minor": 0,
  "metadata": {
    "colab": {
      "provenance": [],
      "authorship_tag": "ABX9TyP24bJdVVLIXsYf7UZRNBxW",
      "include_colab_link": true
    },
    "kernelspec": {
      "name": "python3",
      "display_name": "Python 3"
    },
    "language_info": {
      "name": "python"
    }
  },
  "cells": [
    {
      "cell_type": "markdown",
      "metadata": {
        "id": "view-in-github",
        "colab_type": "text"
      },
      "source": [
        "<a href=\"https://colab.research.google.com/github/newmantic/CVaR/blob/main/CVaR.ipynb\" target=\"_parent\"><img src=\"https://colab.research.google.com/assets/colab-badge.svg\" alt=\"Open In Colab\"/></a>"
      ]
    },
    {
      "cell_type": "code",
      "execution_count": 1,
      "metadata": {
        "colab": {
          "base_uri": "https://localhost:8080/"
        },
        "id": "0kmqLx5wwY12",
        "outputId": "f6c5c729-e76a-448e-c3a5-0a8b24deeee0"
      },
      "outputs": [
        {
          "output_type": "stream",
          "name": "stdout",
          "text": [
            "Value at Risk (VaR) at 95.0% confidence level: -0.1526\n",
            "Conditional Value at Risk (CVaR) at 95.0% confidence level: -0.1919\n"
          ]
        }
      ],
      "source": [
        "import numpy as np\n",
        "\n",
        "def calculate_var(returns, alpha=0.05):\n",
        "    \"\"\"\n",
        "    Calculate the Value at Risk (VaR) at the given confidence level.\n",
        "\n",
        "    :param returns: Array of portfolio returns\n",
        "    :param alpha: Confidence level (e.g., 0.05 for 95% confidence)\n",
        "    :return: VaR value\n",
        "    \"\"\"\n",
        "    sorted_returns = np.sort(returns)\n",
        "    index = int(alpha * len(sorted_returns))\n",
        "    var = sorted_returns[index]\n",
        "    return var\n",
        "\n",
        "def calculate_cvar(returns, alpha=0.05):\n",
        "    \"\"\"\n",
        "    Calculate the Conditional Value at Risk (CVaR) at the given confidence level.\n",
        "\n",
        "    :param returns: Array of portfolio returns\n",
        "    :param alpha: Confidence level (e.g., 0.05 for 95% confidence)\n",
        "    :return: CVaR value\n",
        "    \"\"\"\n",
        "    var = calculate_var(returns, alpha)\n",
        "    cvar = np.mean(returns[returns <= var])\n",
        "    return cvar\n",
        "\n",
        "# Example\n",
        "\n",
        "# Generate synthetic portfolio returns\n",
        "np.random.seed(42)\n",
        "portfolio_returns = np.random.normal(0, 0.1, 1000)  # mean=0, std=0.1, 1000 samples\n",
        "\n",
        "# Parameters\n",
        "alpha = 0.05  # 95% confidence level\n",
        "\n",
        "# Calculate VaR and CVaR\n",
        "var_value = calculate_var(portfolio_returns, alpha)\n",
        "cvar_value = calculate_cvar(portfolio_returns, alpha)\n",
        "\n",
        "print(f\"Value at Risk (VaR) at {100*(1-alpha)}% confidence level: {var_value:.4f}\")\n",
        "print(f\"Conditional Value at Risk (CVaR) at {100*(1-alpha)}% confidence level: {cvar_value:.4f}\")"
      ]
    }
  ]
}